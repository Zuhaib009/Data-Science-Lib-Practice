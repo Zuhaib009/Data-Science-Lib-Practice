{
 "cells": [
  {
   "cell_type": "markdown",
   "id": "f357da3b",
   "metadata": {},
   "source": [
    " automate the process of optimizing  𝑤\n",
    " and  𝑏\n",
    " using gradient descent"
   ]
  },
  {
   "cell_type": "code",
   "execution_count": 4,
   "id": "3d5653db",
   "metadata": {},
   "outputs": [],
   "source": [
    "import math, copy\n",
    "import numpy as np\n",
    "import matplotlib.pyplot as plt\n",
    "plt.style.use('deeplearning.mplstyle')\n",
    "from lab_utils_uni import plt_house_x, plt_contour_wgrad, plt_divergence, plt_gradients"
   ]
  },
  {
   "cell_type": "markdown",
   "id": "bdf6b12e",
   "metadata": {},
   "source": [
    "# Problem Statement\n",
    "Let's use the same two data points as before - a house with 1000 square feet sold for $300,000 and a house with 2000 square feet sold for $500,000.\n"
   ]
  },
  {
   "cell_type": "code",
   "execution_count": 5,
   "id": "3fce2caf",
   "metadata": {},
   "outputs": [],
   "source": [
    "#load data set\n",
    "x_train = np.array([1.0,2.0])\n",
    "y_train = np.array([300,500])"
   ]
  },
  {
   "cell_type": "markdown",
   "id": "6fcac7d2",
   "metadata": {},
   "source": [
    "# Compute_Cost"
   ]
  },
  {
   "cell_type": "code",
   "execution_count": 6,
   "id": "237e6c2e",
   "metadata": {},
   "outputs": [],
   "source": [
    "def compute_cost(x,y,w,b):\n",
    "    \n",
    "    m = x_train.shape[0]\n",
    "    total_cost = 0\n",
    "    for i in range(m):\n",
    "        \n",
    "        f_wx = w*x[i]+b\n",
    "        cost = (f_wx-y[i])**2\n",
    "        total_cost = total_cost + cost\n",
    "    return (1/2*m)*total_cost\n",
    "\n"
   ]
  },
  {
   "cell_type": "markdown",
   "id": "3bf2a7ca",
   "metadata": {},
   "source": [
    "# compute_gradient"
   ]
  },
  {
   "cell_type": "code",
   "execution_count": 7,
   "id": "7563850b",
   "metadata": {},
   "outputs": [],
   "source": [
    "def compute_gradient(x, y, w, b): \n",
    "    \n",
    "    # Number of training examples\n",
    "    m = x.shape[0]    \n",
    "    dj_dw = 0\n",
    "    dj_db = 0\n",
    "    \n",
    "    for i in range(m):  \n",
    "        f_wb = w * x[i] + b \n",
    "        dj_dw_i = (f_wb - y[i]) * x[i] \n",
    "        dj_db_i = f_wb - y[i] \n",
    "        dj_db += dj_db_i\n",
    "        dj_dw += dj_dw_i \n",
    "    dj_dw = dj_dw / m \n",
    "    dj_db = dj_db / m \n",
    "        \n",
    "    return dj_dw, dj_db"
   ]
  },
  {
   "cell_type": "markdown",
   "id": "77d094cd",
   "metadata": {},
   "source": [
    "# Gradient Descent"
   ]
  },
  {
   "cell_type": "code",
   "execution_count": 8,
   "id": "d084c5ec",
   "metadata": {},
   "outputs": [],
   "source": [
    "def gradient_descent(x, y, w_in, b_in, alpha, num_iters, cost_function, gradient_function): \n",
    "    \n",
    "    b = b_in\n",
    "    w = w_in\n",
    "    \n",
    "    for i in range(num_iters):\n",
    "        # Calculate the gradient and update the parameters using gradient_function\n",
    "        dj_dw, dj_db = gradient_function(x, y, w , b)     \n",
    "\n",
    "        # Update Parameters using equation (3) above\n",
    "        b = b - alpha * dj_db                            \n",
    "        w = w - alpha * dj_dw                            \n",
    " \n",
    "    return w, b #return w and b"
   ]
  },
  {
   "cell_type": "code",
   "execution_count": 10,
   "id": "46ffa219",
   "metadata": {},
   "outputs": [
    {
     "name": "stdout",
     "output_type": "stream",
     "text": [
      "w = 199.99285075131766 b = 100.011567727362\n"
     ]
    }
   ],
   "source": [
    "# initialize parameters\n",
    "w_init = 0\n",
    "b_init = 0\n",
    "# some gradient descent settings\n",
    "iterations = 10000\n",
    "tmp_alpha = 1.0e-2\n",
    "# run gradient descent\n",
    "w_final, b_final = gradient_descent(x_train ,y_train, w_init, b_init, tmp_alpha, \n",
    "                                                    iterations, compute_cost, compute_gradient)\n",
    "print(\"w =\",w_final,\"b =\",b_final)"
   ]
  },
  {
   "cell_type": "markdown",
   "id": "714fed73",
   "metadata": {},
   "source": [
    "# Prediction"
   ]
  },
  {
   "cell_type": "code",
   "execution_count": 11,
   "id": "46e5929b",
   "metadata": {},
   "outputs": [
    {
     "name": "stdout",
     "output_type": "stream",
     "text": [
      "Price: 400.00084385433854\n"
     ]
    }
   ],
   "source": [
    "value = 1.5\n",
    "price_p = w_final*value +b_final\n",
    "print('Price:',price_p)"
   ]
  },
  {
   "cell_type": "code",
   "execution_count": null,
   "id": "2f6e18b3",
   "metadata": {},
   "outputs": [],
   "source": []
  }
 ],
 "metadata": {
  "kernelspec": {
   "display_name": "Python 3 (ipykernel)",
   "language": "python",
   "name": "python3"
  },
  "language_info": {
   "codemirror_mode": {
    "name": "ipython",
    "version": 3
   },
   "file_extension": ".py",
   "mimetype": "text/x-python",
   "name": "python",
   "nbconvert_exporter": "python",
   "pygments_lexer": "ipython3",
   "version": "3.10.9"
  }
 },
 "nbformat": 4,
 "nbformat_minor": 5
}
