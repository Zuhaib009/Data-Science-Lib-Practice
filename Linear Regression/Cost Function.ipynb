{
 "cells": [
  {
   "cell_type": "markdown",
   "id": "629fd87a",
   "metadata": {},
   "source": [
    "# Implement and explore the cost function for linear regression with one variable."
   ]
  },
  {
   "cell_type": "code",
   "execution_count": 1,
   "id": "080b114a",
   "metadata": {},
   "outputs": [],
   "source": [
    "import numpy as np\n",
    "import matplotlib.pyplot as plt\n",
    "from lab_utils_uni import plt_intuition, plt_stationary, plt_update_onclick, soup_bowl"
   ]
  },
  {
   "cell_type": "markdown",
   "id": "2766f0ab",
   "metadata": {},
   "source": [
    "# Problem Statement\n",
    "You would like a model which can predict housing prices given the size of the house.\n",
    "Let's use the same two data points as before the previous lab- a house with 1000 square feet sold for $300,000 and a house with 2000 square feet sold for $500,000."
   ]
  },
  {
   "cell_type": "code",
   "execution_count": 2,
   "id": "8ebf7fbe",
   "metadata": {},
   "outputs": [],
   "source": [
    "x_train = np.array([1.0,2.0,3.0])\n",
    "y_train = np.array([300.0,500.0,750.0])"
   ]
  },
  {
   "cell_type": "markdown",
   "id": "c11a8764",
   "metadata": {},
   "source": [
    "# Computing Cost"
   ]
  },
  {
   "cell_type": "code",
   "execution_count": 4,
   "id": "939102fe",
   "metadata": {},
   "outputs": [],
   "source": [
    "def compute_cost(x,y,w,b):\n",
    "    \n",
    "    m = x.shape[0]\n",
    "    cost_sum = 0\n",
    "    for i in range(m):\n",
    "        f_wb =w*x[i]+b\n",
    "        cost = (f_wb-y[i])**2\n",
    "        cost_sum = cost_sum+cost\n",
    "        \n",
    "    return cost_sum\n"
   ]
  },
  {
   "cell_type": "markdown",
   "id": "871b7727",
   "metadata": {},
   "source": [
    "# Cost Function Intuition"
   ]
  },
  {
   "cell_type": "code",
   "execution_count": 5,
   "id": "1557315f",
   "metadata": {},
   "outputs": [
    {
     "data": {
      "application/vnd.jupyter.widget-view+json": {
       "model_id": "8503aaf7acaf42cc8f1c644484161d9b",
       "version_major": 2,
       "version_minor": 0
      },
      "text/plain": [
       "interactive(children=(IntSlider(value=150, description='w', max=400, step=10), Output()), _dom_classes=('widge…"
      ]
     },
     "metadata": {},
     "output_type": "display_data"
    }
   ],
   "source": [
    "plt_intuition(x_train,y_train)"
   ]
  },
  {
   "cell_type": "code",
   "execution_count": 78,
   "id": "e781fe99",
   "metadata": {},
   "outputs": [
    {
     "data": {
      "text/plain": [
       "900.0"
      ]
     },
     "execution_count": 78,
     "metadata": {},
     "output_type": "execute_result"
    }
   ],
   "source": [
    "w = 210\n",
    "b = 100\n",
    "compute_cost(x_train,y_train,w,b)"
   ]
  },
  {
   "cell_type": "markdown",
   "id": "a018aafc",
   "metadata": {},
   "source": [
    "# Prediction"
   ]
  },
  {
   "cell_type": "code",
   "execution_count": 79,
   "id": "b2ae31a6",
   "metadata": {},
   "outputs": [
    {
     "name": "stdout",
     "output_type": "stream",
     "text": [
      "Prediction: 625.0\n"
     ]
    }
   ],
   "source": [
    "x = 2.5\n",
    "prediction = w*x+b\n",
    "print(f'Prediction: {prediction}')"
   ]
  },
  {
   "cell_type": "code",
   "execution_count": null,
   "id": "b42f3d3f",
   "metadata": {},
   "outputs": [],
   "source": []
  }
 ],
 "metadata": {
  "kernelspec": {
   "display_name": "Python 3 (ipykernel)",
   "language": "python",
   "name": "python3"
  },
  "language_info": {
   "codemirror_mode": {
    "name": "ipython",
    "version": 3
   },
   "file_extension": ".py",
   "mimetype": "text/x-python",
   "name": "python",
   "nbconvert_exporter": "python",
   "pygments_lexer": "ipython3",
   "version": "3.10.9"
  }
 },
 "nbformat": 4,
 "nbformat_minor": 5
}
